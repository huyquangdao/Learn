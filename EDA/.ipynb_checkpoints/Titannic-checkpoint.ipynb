{
 "cells": [
  {
   "cell_type": "code",
   "execution_count": 1,
   "metadata": {},
   "outputs": [],
   "source": [
    "import pandas as pd\n",
    "import matplotlib.pyplot as plt\n",
    "import seaborn as sns\n",
    "import numpy as np\n",
    "import random"
   ]
  },
  {
   "cell_type": "code",
   "execution_count": 2,
   "metadata": {},
   "outputs": [],
   "source": [
    "SEED = 1234\n",
    "random.seed(SEED)"
   ]
  },
  {
   "cell_type": "code",
   "execution_count": 3,
   "metadata": {},
   "outputs": [],
   "source": [
    "import os\n",
    "os.environ['KAGGLE_USERNAME'] = \"huydaoquang\" # username from the json file\n",
    "os.environ['KAGGLE_KEY'] = \"0eb162199ef4cf635c9586a2d18aaf2f\" # key from the json file"
   ]
  },
  {
   "cell_type": "code",
   "execution_count": 4,
   "metadata": {},
   "outputs": [],
   "source": [
    "train_path = 'data/titannic/train.csv'\n",
    "test_path = 'data/titannic/test.csv'"
   ]
  },
  {
   "cell_type": "code",
   "execution_count": 5,
   "metadata": {},
   "outputs": [],
   "source": [
    "df_train = pd.read_csv(train_path)\n",
    "df_test = pd.read_csv(test_path)"
   ]
  },
  {
   "cell_type": "code",
   "execution_count": 6,
   "metadata": {},
   "outputs": [
    {
     "data": {
      "text/html": [
       "<div>\n",
       "<style scoped>\n",
       "    .dataframe tbody tr th:only-of-type {\n",
       "        vertical-align: middle;\n",
       "    }\n",
       "\n",
       "    .dataframe tbody tr th {\n",
       "        vertical-align: top;\n",
       "    }\n",
       "\n",
       "    .dataframe thead th {\n",
       "        text-align: right;\n",
       "    }\n",
       "</style>\n",
       "<table border=\"1\" class=\"dataframe\">\n",
       "  <thead>\n",
       "    <tr style=\"text-align: right;\">\n",
       "      <th></th>\n",
       "      <th>PassengerId</th>\n",
       "      <th>Survived</th>\n",
       "      <th>Pclass</th>\n",
       "      <th>Name</th>\n",
       "      <th>Sex</th>\n",
       "      <th>Age</th>\n",
       "      <th>SibSp</th>\n",
       "      <th>Parch</th>\n",
       "      <th>Ticket</th>\n",
       "      <th>Fare</th>\n",
       "      <th>Cabin</th>\n",
       "      <th>Embarked</th>\n",
       "    </tr>\n",
       "  </thead>\n",
       "  <tbody>\n",
       "    <tr>\n",
       "      <th>0</th>\n",
       "      <td>1</td>\n",
       "      <td>0</td>\n",
       "      <td>3</td>\n",
       "      <td>Braund, Mr. Owen Harris</td>\n",
       "      <td>male</td>\n",
       "      <td>22.0</td>\n",
       "      <td>1</td>\n",
       "      <td>0</td>\n",
       "      <td>A/5 21171</td>\n",
       "      <td>7.2500</td>\n",
       "      <td>NaN</td>\n",
       "      <td>S</td>\n",
       "    </tr>\n",
       "    <tr>\n",
       "      <th>1</th>\n",
       "      <td>2</td>\n",
       "      <td>1</td>\n",
       "      <td>1</td>\n",
       "      <td>Cumings, Mrs. John Bradley (Florence Briggs Th...</td>\n",
       "      <td>female</td>\n",
       "      <td>38.0</td>\n",
       "      <td>1</td>\n",
       "      <td>0</td>\n",
       "      <td>PC 17599</td>\n",
       "      <td>71.2833</td>\n",
       "      <td>C85</td>\n",
       "      <td>C</td>\n",
       "    </tr>\n",
       "    <tr>\n",
       "      <th>2</th>\n",
       "      <td>3</td>\n",
       "      <td>1</td>\n",
       "      <td>3</td>\n",
       "      <td>Heikkinen, Miss. Laina</td>\n",
       "      <td>female</td>\n",
       "      <td>26.0</td>\n",
       "      <td>0</td>\n",
       "      <td>0</td>\n",
       "      <td>STON/O2. 3101282</td>\n",
       "      <td>7.9250</td>\n",
       "      <td>NaN</td>\n",
       "      <td>S</td>\n",
       "    </tr>\n",
       "    <tr>\n",
       "      <th>3</th>\n",
       "      <td>4</td>\n",
       "      <td>1</td>\n",
       "      <td>1</td>\n",
       "      <td>Futrelle, Mrs. Jacques Heath (Lily May Peel)</td>\n",
       "      <td>female</td>\n",
       "      <td>35.0</td>\n",
       "      <td>1</td>\n",
       "      <td>0</td>\n",
       "      <td>113803</td>\n",
       "      <td>53.1000</td>\n",
       "      <td>C123</td>\n",
       "      <td>S</td>\n",
       "    </tr>\n",
       "    <tr>\n",
       "      <th>4</th>\n",
       "      <td>5</td>\n",
       "      <td>0</td>\n",
       "      <td>3</td>\n",
       "      <td>Allen, Mr. William Henry</td>\n",
       "      <td>male</td>\n",
       "      <td>35.0</td>\n",
       "      <td>0</td>\n",
       "      <td>0</td>\n",
       "      <td>373450</td>\n",
       "      <td>8.0500</td>\n",
       "      <td>NaN</td>\n",
       "      <td>S</td>\n",
       "    </tr>\n",
       "  </tbody>\n",
       "</table>\n",
       "</div>"
      ],
      "text/plain": [
       "   PassengerId  Survived  Pclass  \\\n",
       "0            1         0       3   \n",
       "1            2         1       1   \n",
       "2            3         1       3   \n",
       "3            4         1       1   \n",
       "4            5         0       3   \n",
       "\n",
       "                                                Name     Sex   Age  SibSp  \\\n",
       "0                            Braund, Mr. Owen Harris    male  22.0      1   \n",
       "1  Cumings, Mrs. John Bradley (Florence Briggs Th...  female  38.0      1   \n",
       "2                             Heikkinen, Miss. Laina  female  26.0      0   \n",
       "3       Futrelle, Mrs. Jacques Heath (Lily May Peel)  female  35.0      1   \n",
       "4                           Allen, Mr. William Henry    male  35.0      0   \n",
       "\n",
       "   Parch            Ticket     Fare Cabin Embarked  \n",
       "0      0         A/5 21171   7.2500   NaN        S  \n",
       "1      0          PC 17599  71.2833   C85        C  \n",
       "2      0  STON/O2. 3101282   7.9250   NaN        S  \n",
       "3      0            113803  53.1000  C123        S  \n",
       "4      0            373450   8.0500   NaN        S  "
      ]
     },
     "execution_count": 6,
     "metadata": {},
     "output_type": "execute_result"
    }
   ],
   "source": [
    "df_train.head()"
   ]
  },
  {
   "cell_type": "code",
   "execution_count": 7,
   "metadata": {},
   "outputs": [
    {
     "name": "stdout",
     "output_type": "stream",
     "text": [
      "<class 'pandas.core.frame.DataFrame'>\n",
      "RangeIndex: 891 entries, 0 to 890\n",
      "Data columns (total 12 columns):\n",
      " #   Column       Non-Null Count  Dtype  \n",
      "---  ------       --------------  -----  \n",
      " 0   PassengerId  891 non-null    int64  \n",
      " 1   Survived     891 non-null    int64  \n",
      " 2   Pclass       891 non-null    int64  \n",
      " 3   Name         891 non-null    object \n",
      " 4   Sex          891 non-null    object \n",
      " 5   Age          714 non-null    float64\n",
      " 6   SibSp        891 non-null    int64  \n",
      " 7   Parch        891 non-null    int64  \n",
      " 8   Ticket       891 non-null    object \n",
      " 9   Fare         891 non-null    float64\n",
      " 10  Cabin        204 non-null    object \n",
      " 11  Embarked     889 non-null    object \n",
      "dtypes: float64(2), int64(5), object(5)\n",
      "memory usage: 83.7+ KB\n"
     ]
    }
   ],
   "source": [
    "df_train.info()"
   ]
  },
  {
   "cell_type": "code",
   "execution_count": 8,
   "metadata": {},
   "outputs": [
    {
     "data": {
      "text/plain": [
       "PassengerId      0\n",
       "Survived         0\n",
       "Pclass           0\n",
       "Name             0\n",
       "Sex              0\n",
       "Age            177\n",
       "SibSp            0\n",
       "Parch            0\n",
       "Ticket           0\n",
       "Fare             0\n",
       "Cabin          687\n",
       "Embarked         2\n",
       "dtype: int64"
      ]
     },
     "execution_count": 8,
     "metadata": {},
     "output_type": "execute_result"
    }
   ],
   "source": [
    "df_train.isna().sum()"
   ]
  },
  {
   "cell_type": "code",
   "execution_count": 9,
   "metadata": {},
   "outputs": [
    {
     "name": "stdout",
     "output_type": "stream",
     "text": [
      "<class 'pandas.core.frame.DataFrame'>\n",
      "RangeIndex: 418 entries, 0 to 417\n",
      "Data columns (total 11 columns):\n",
      " #   Column       Non-Null Count  Dtype  \n",
      "---  ------       --------------  -----  \n",
      " 0   PassengerId  418 non-null    int64  \n",
      " 1   Pclass       418 non-null    int64  \n",
      " 2   Name         418 non-null    object \n",
      " 3   Sex          418 non-null    object \n",
      " 4   Age          332 non-null    float64\n",
      " 5   SibSp        418 non-null    int64  \n",
      " 6   Parch        418 non-null    int64  \n",
      " 7   Ticket       418 non-null    object \n",
      " 8   Fare         417 non-null    float64\n",
      " 9   Cabin        91 non-null     object \n",
      " 10  Embarked     418 non-null    object \n",
      "dtypes: float64(2), int64(4), object(5)\n",
      "memory usage: 36.0+ KB\n"
     ]
    }
   ],
   "source": [
    "df_test.info()"
   ]
  },
  {
   "cell_type": "code",
   "execution_count": 10,
   "metadata": {},
   "outputs": [
    {
     "data": {
      "text/plain": [
       "PassengerId      0\n",
       "Pclass           0\n",
       "Name             0\n",
       "Sex              0\n",
       "Age             86\n",
       "SibSp            0\n",
       "Parch            0\n",
       "Ticket           0\n",
       "Fare             1\n",
       "Cabin          327\n",
       "Embarked         0\n",
       "dtype: int64"
      ]
     },
     "execution_count": 10,
     "metadata": {},
     "output_type": "execute_result"
    }
   ],
   "source": [
    "df_test.isna().sum()"
   ]
  },
  {
   "cell_type": "markdown",
   "metadata": {},
   "source": [
    "## Exploratory Data Analysis(EDA)"
   ]
  },
  {
   "cell_type": "code",
   "execution_count": 11,
   "metadata": {},
   "outputs": [
    {
     "data": {
      "text/plain": [
       "Text(0.5, 1.0, 'Count Survived')"
      ]
     },
     "execution_count": 11,
     "metadata": {},
     "output_type": "execute_result"
    },
    {
     "data": {
      "image/png": "[encoded data removed]",
      "text/plain": [
       "<Figure size 1152x576 with 2 Axes>"
      ]
     },
     "metadata": {
      "needs_background": "light"
     },
     "output_type": "display_data"
    }
   ],
   "source": [
    "fig,ax = plt.subplots(1,2,figsize=(16,8))\n",
    "df_train['Survived'].value_counts().plot.pie(ax=ax[0],explode=[0,0.1],autopct='%1.1f%%')\n",
    "ax[0].set_title('Percent Suvived')\n",
    "sns.countplot(x = df_train['Survived'],data=df_train,ax=ax[1])\n",
    "ax[1].set_title('Count Survived')"
   ]
  },
  {
   "cell_type": "code",
   "execution_count": 12,
   "metadata": {},
   "outputs": [],
   "source": [
    "#observation\n",
    "# onyl 38.4 % passenger survived"
   ]
  },
  {
   "cell_type": "markdown",
   "metadata": {},
   "source": [
    "### Sex And Survived"
   ]
  },
  {
   "cell_type": "code",
   "execution_count": 13,
   "metadata": {},
   "outputs": [
    {
     "data": {
      "text/plain": [
       "<matplotlib.axes._subplots.AxesSubplot at 0x7fe157c6c950>"
      ]
     },
     "execution_count": 13,
     "metadata": {},
     "output_type": "execute_result"
    },
    {
     "data": {
      "image/png": "[encoded data removed]",
      "text/plain": [
       "<Figure size 1152x576 with 4 Axes>"
      ]
     },
     "metadata": {
      "needs_background": "light"
     },
     "output_type": "display_data"
    }
   ],
   "source": [
    "fig,ax = plt.subplots(2,2,figsize=(16,8))\n",
    "df_train['Sex'].value_counts().plot.pie(ax=ax[0,0],explode=[0,0.1],autopct='%.2f%%')\n",
    "ax[0,0].set_title('Percent Gender')\n",
    "sns.countplot(x=df_train['Sex'],hue='Survived',data=df_train,ax=ax[0,1])\n",
    "ax[0,1].set_title('Survied by Gender')\n",
    "\n",
    "df_train[['Sex','Survived']].groupby('Sex').mean().plot.bar(ax=ax[1,0])"
   ]
  },
  {
   "cell_type": "code",
   "execution_count": 14,
   "metadata": {},
   "outputs": [],
   "source": [
    "#observation\n",
    "#female has large change to survive than male"
   ]
  },
  {
   "cell_type": "markdown",
   "metadata": {},
   "source": [
    "### Pclass and Survived"
   ]
  },
  {
   "cell_type": "code",
   "execution_count": 15,
   "metadata": {},
   "outputs": [
    {
     "data": {
      "text/html": [
       "<style  type=\"text/css\" >\n",
       "    #T_cbd5dd4e_5672_11ea_92c4_49ab58a05249row0_col0 {\n",
       "            background-color:  #ffff66;\n",
       "            color:  #000000;\n",
       "        }    #T_cbd5dd4e_5672_11ea_92c4_49ab58a05249row0_col1 {\n",
       "            background-color:  #cee666;\n",
       "            color:  #000000;\n",
       "        }    #T_cbd5dd4e_5672_11ea_92c4_49ab58a05249row0_col2 {\n",
       "            background-color:  #f4fa66;\n",
       "            color:  #000000;\n",
       "        }    #T_cbd5dd4e_5672_11ea_92c4_49ab58a05249row1_col0 {\n",
       "            background-color:  #f6fa66;\n",
       "            color:  #000000;\n",
       "        }    #T_cbd5dd4e_5672_11ea_92c4_49ab58a05249row1_col1 {\n",
       "            background-color:  #ffff66;\n",
       "            color:  #000000;\n",
       "        }    #T_cbd5dd4e_5672_11ea_92c4_49ab58a05249row1_col2 {\n",
       "            background-color:  #ffff66;\n",
       "            color:  #000000;\n",
       "        }    #T_cbd5dd4e_5672_11ea_92c4_49ab58a05249row2_col0 {\n",
       "            background-color:  #60b066;\n",
       "            color:  #000000;\n",
       "        }    #T_cbd5dd4e_5672_11ea_92c4_49ab58a05249row2_col1 {\n",
       "            background-color:  #dfef66;\n",
       "            color:  #000000;\n",
       "        }    #T_cbd5dd4e_5672_11ea_92c4_49ab58a05249row2_col2 {\n",
       "            background-color:  #90c866;\n",
       "            color:  #000000;\n",
       "        }    #T_cbd5dd4e_5672_11ea_92c4_49ab58a05249row3_col0 {\n",
       "            background-color:  #008066;\n",
       "            color:  #f1f1f1;\n",
       "        }    #T_cbd5dd4e_5672_11ea_92c4_49ab58a05249row3_col1 {\n",
       "            background-color:  #008066;\n",
       "            color:  #f1f1f1;\n",
       "        }    #T_cbd5dd4e_5672_11ea_92c4_49ab58a05249row3_col2 {\n",
       "            background-color:  #008066;\n",
       "            color:  #f1f1f1;\n",
       "        }</style><table id=\"T_cbd5dd4e_5672_11ea_92c4_49ab58a05249\" ><thead>    <tr>        <th class=\"index_name level0\" >Survived</th>        <th class=\"col_heading level0 col0\" >0</th>        <th class=\"col_heading level0 col1\" >1</th>        <th class=\"col_heading level0 col2\" >All</th>    </tr>    <tr>        <th class=\"index_name level0\" >Pclass</th>        <th class=\"blank\" ></th>        <th class=\"blank\" ></th>        <th class=\"blank\" ></th>    </tr></thead><tbody>\n",
       "                <tr>\n",
       "                        <th id=\"T_cbd5dd4e_5672_11ea_92c4_49ab58a05249level0_row0\" class=\"row_heading level0 row0\" >1</th>\n",
       "                        <td id=\"T_cbd5dd4e_5672_11ea_92c4_49ab58a05249row0_col0\" class=\"data row0 col0\" >80</td>\n",
       "                        <td id=\"T_cbd5dd4e_5672_11ea_92c4_49ab58a05249row0_col1\" class=\"data row0 col1\" >136</td>\n",
       "                        <td id=\"T_cbd5dd4e_5672_11ea_92c4_49ab58a05249row0_col2\" class=\"data row0 col2\" >216</td>\n",
       "            </tr>\n",
       "            <tr>\n",
       "                        <th id=\"T_cbd5dd4e_5672_11ea_92c4_49ab58a05249level0_row1\" class=\"row_heading level0 row1\" >2</th>\n",
       "                        <td id=\"T_cbd5dd4e_5672_11ea_92c4_49ab58a05249row1_col0\" class=\"data row1 col0\" >97</td>\n",
       "                        <td id=\"T_cbd5dd4e_5672_11ea_92c4_49ab58a05249row1_col1\" class=\"data row1 col1\" >87</td>\n",
       "                        <td id=\"T_cbd5dd4e_5672_11ea_92c4_49ab58a05249row1_col2\" class=\"data row1 col2\" >184</td>\n",
       "            </tr>\n",
       "            <tr>\n",
       "                        <th id=\"T_cbd5dd4e_5672_11ea_92c4_49ab58a05249level0_row2\" class=\"row_heading level0 row2\" >3</th>\n",
       "                        <td id=\"T_cbd5dd4e_5672_11ea_92c4_49ab58a05249row2_col0\" class=\"data row2 col0\" >372</td>\n",
       "                        <td id=\"T_cbd5dd4e_5672_11ea_92c4_49ab58a05249row2_col1\" class=\"data row2 col1\" >119</td>\n",
       "                        <td id=\"T_cbd5dd4e_5672_11ea_92c4_49ab58a05249row2_col2\" class=\"data row2 col2\" >491</td>\n",
       "            </tr>\n",
       "            <tr>\n",
       "                        <th id=\"T_cbd5dd4e_5672_11ea_92c4_49ab58a05249level0_row3\" class=\"row_heading level0 row3\" >All</th>\n",
       "                        <td id=\"T_cbd5dd4e_5672_11ea_92c4_49ab58a05249row3_col0\" class=\"data row3 col0\" >549</td>\n",
       "                        <td id=\"T_cbd5dd4e_5672_11ea_92c4_49ab58a05249row3_col1\" class=\"data row3 col1\" >342</td>\n",
       "                        <td id=\"T_cbd5dd4e_5672_11ea_92c4_49ab58a05249row3_col2\" class=\"data row3 col2\" >891</td>\n",
       "            </tr>\n",
       "    </tbody></table>"
      ],
      "text/plain": [
       "<pandas.io.formats.style.Styler at 0x7fe15a4a5590>"
      ]
     },
     "execution_count": 15,
     "metadata": {},
     "output_type": "execute_result"
    }
   ],
   "source": [
    "pd.crosstab(df_train.Pclass,df_train.Survived,margins=True).style.background_gradient(cmap='summer_r')"
   ]
  },
  {
   "cell_type": "code",
   "execution_count": 16,
   "metadata": {},
   "outputs": [
    {
     "data": {
      "text/plain": [
       "Text(0.5, 1.0, 'Pclass:Survived vs Dead')"
      ]
     },
     "execution_count": 16,
     "metadata": {},
     "output_type": "execute_result"
    },
    {
     "data": {
      "image/png": "[encoded data removed]",
      "text/plain": [
       "<Figure size 1152x576 with 2 Axes>"
      ]
     },
     "metadata": {
      "needs_background": "light"
     },
     "output_type": "display_data"
    }
   ],
   "source": [
    "fig, ax = plt.subplots(1,2,figsize=(16,8))\n",
    "sns.countplot('Pclass',data=df_train,ax=ax[0])\n",
    "ax[0].set_title('Number Of Passengers By Pclass')\n",
    "ax[0].set_ylabel('Count')\n",
    "sns.countplot('Pclass',hue='Survived',data=df_train)\n",
    "ax[1].set_title('Pclass:Survived vs Dead')"
   ]
  },
  {
   "cell_type": "code",
   "execution_count": 17,
   "metadata": {},
   "outputs": [
    {
     "data": {
      "text/html": [
       "<style  type=\"text/css\" >\n",
       "    #T_cc6b1f12_5672_11ea_92c4_49ab58a05249row0_col0 {\n",
       "            background-color:  #ffff66;\n",
       "            color:  #000000;\n",
       "        }    #T_cc6b1f12_5672_11ea_92c4_49ab58a05249row0_col1 {\n",
       "            background-color:  #ffff66;\n",
       "            color:  #000000;\n",
       "        }    #T_cc6b1f12_5672_11ea_92c4_49ab58a05249row0_col2 {\n",
       "            background-color:  #f1f866;\n",
       "            color:  #000000;\n",
       "        }    #T_cc6b1f12_5672_11ea_92c4_49ab58a05249row0_col3 {\n",
       "            background-color:  #ffff66;\n",
       "            color:  #000000;\n",
       "        }    #T_cc6b1f12_5672_11ea_92c4_49ab58a05249row1_col0 {\n",
       "            background-color:  #96cb66;\n",
       "            color:  #000000;\n",
       "        }    #T_cc6b1f12_5672_11ea_92c4_49ab58a05249row1_col1 {\n",
       "            background-color:  #a3d166;\n",
       "            color:  #000000;\n",
       "        }    #T_cc6b1f12_5672_11ea_92c4_49ab58a05249row1_col2 {\n",
       "            background-color:  #f1f866;\n",
       "            color:  #000000;\n",
       "        }    #T_cc6b1f12_5672_11ea_92c4_49ab58a05249row1_col3 {\n",
       "            background-color:  #cfe766;\n",
       "            color:  #000000;\n",
       "        }    #T_cc6b1f12_5672_11ea_92c4_49ab58a05249row2_col0 {\n",
       "            background-color:  #a7d366;\n",
       "            color:  #000000;\n",
       "        }    #T_cc6b1f12_5672_11ea_92c4_49ab58a05249row2_col1 {\n",
       "            background-color:  #85c266;\n",
       "            color:  #000000;\n",
       "        }    #T_cc6b1f12_5672_11ea_92c4_49ab58a05249row2_col2 {\n",
       "            background-color:  #6eb666;\n",
       "            color:  #000000;\n",
       "        }    #T_cc6b1f12_5672_11ea_92c4_49ab58a05249row2_col3 {\n",
       "            background-color:  #85c266;\n",
       "            color:  #000000;\n",
       "        }    #T_cc6b1f12_5672_11ea_92c4_49ab58a05249row3_col0 {\n",
       "            background-color:  #cde666;\n",
       "            color:  #000000;\n",
       "        }    #T_cc6b1f12_5672_11ea_92c4_49ab58a05249row3_col1 {\n",
       "            background-color:  #f0f866;\n",
       "            color:  #000000;\n",
       "        }    #T_cc6b1f12_5672_11ea_92c4_49ab58a05249row3_col2 {\n",
       "            background-color:  #ffff66;\n",
       "            color:  #000000;\n",
       "        }    #T_cc6b1f12_5672_11ea_92c4_49ab58a05249row3_col3 {\n",
       "            background-color:  #f7fb66;\n",
       "            color:  #000000;\n",
       "        }    #T_cc6b1f12_5672_11ea_92c4_49ab58a05249row4_col0 {\n",
       "            background-color:  #008066;\n",
       "            color:  #f1f1f1;\n",
       "        }    #T_cc6b1f12_5672_11ea_92c4_49ab58a05249row4_col1 {\n",
       "            background-color:  #008066;\n",
       "            color:  #f1f1f1;\n",
       "        }    #T_cc6b1f12_5672_11ea_92c4_49ab58a05249row4_col2 {\n",
       "            background-color:  #008066;\n",
       "            color:  #f1f1f1;\n",
       "        }    #T_cc6b1f12_5672_11ea_92c4_49ab58a05249row4_col3 {\n",
       "            background-color:  #008066;\n",
       "            color:  #f1f1f1;\n",
       "        }</style><table id=\"T_cc6b1f12_5672_11ea_92c4_49ab58a05249\" ><thead>    <tr>        <th class=\"blank\" ></th>        <th class=\"index_name level0\" >Pclass</th>        <th class=\"col_heading level0 col0\" >1</th>        <th class=\"col_heading level0 col1\" >2</th>        <th class=\"col_heading level0 col2\" >3</th>        <th class=\"col_heading level0 col3\" >All</th>    </tr>    <tr>        <th class=\"index_name level0\" >Sex</th>        <th class=\"index_name level1\" >Survived</th>        <th class=\"blank\" ></th>        <th class=\"blank\" ></th>        <th class=\"blank\" ></th>        <th class=\"blank\" ></th>    </tr></thead><tbody>\n",
       "                <tr>\n",
       "                        <th id=\"T_cc6b1f12_5672_11ea_92c4_49ab58a05249level0_row0\" class=\"row_heading level0 row0\" rowspan=2>female</th>\n",
       "                        <th id=\"T_cc6b1f12_5672_11ea_92c4_49ab58a05249level1_row0\" class=\"row_heading level1 row0\" >0</th>\n",
       "                        <td id=\"T_cc6b1f12_5672_11ea_92c4_49ab58a05249row0_col0\" class=\"data row0 col0\" >3</td>\n",
       "                        <td id=\"T_cc6b1f12_5672_11ea_92c4_49ab58a05249row0_col1\" class=\"data row0 col1\" >6</td>\n",
       "                        <td id=\"T_cc6b1f12_5672_11ea_92c4_49ab58a05249row0_col2\" class=\"data row0 col2\" >72</td>\n",
       "                        <td id=\"T_cc6b1f12_5672_11ea_92c4_49ab58a05249row0_col3\" class=\"data row0 col3\" >81</td>\n",
       "            </tr>\n",
       "            <tr>\n",
       "                                <th id=\"T_cc6b1f12_5672_11ea_92c4_49ab58a05249level1_row1\" class=\"row_heading level1 row1\" >1</th>\n",
       "                        <td id=\"T_cc6b1f12_5672_11ea_92c4_49ab58a05249row1_col0\" class=\"data row1 col0\" >91</td>\n",
       "                        <td id=\"T_cc6b1f12_5672_11ea_92c4_49ab58a05249row1_col1\" class=\"data row1 col1\" >70</td>\n",
       "                        <td id=\"T_cc6b1f12_5672_11ea_92c4_49ab58a05249row1_col2\" class=\"data row1 col2\" >72</td>\n",
       "                        <td id=\"T_cc6b1f12_5672_11ea_92c4_49ab58a05249row1_col3\" class=\"data row1 col3\" >233</td>\n",
       "            </tr>\n",
       "            <tr>\n",
       "                        <th id=\"T_cc6b1f12_5672_11ea_92c4_49ab58a05249level0_row2\" class=\"row_heading level0 row2\" rowspan=2>male</th>\n",
       "                        <th id=\"T_cc6b1f12_5672_11ea_92c4_49ab58a05249level1_row2\" class=\"row_heading level1 row2\" >0</th>\n",
       "                        <td id=\"T_cc6b1f12_5672_11ea_92c4_49ab58a05249row2_col0\" class=\"data row2 col0\" >77</td>\n",
       "                        <td id=\"T_cc6b1f12_5672_11ea_92c4_49ab58a05249row2_col1\" class=\"data row2 col1\" >91</td>\n",
       "                        <td id=\"T_cc6b1f12_5672_11ea_92c4_49ab58a05249row2_col2\" class=\"data row2 col2\" >300</td>\n",
       "                        <td id=\"T_cc6b1f12_5672_11ea_92c4_49ab58a05249row2_col3\" class=\"data row2 col3\" >468</td>\n",
       "            </tr>\n",
       "            <tr>\n",
       "                                <th id=\"T_cc6b1f12_5672_11ea_92c4_49ab58a05249level1_row3\" class=\"row_heading level1 row3\" >1</th>\n",
       "                        <td id=\"T_cc6b1f12_5672_11ea_92c4_49ab58a05249row3_col0\" class=\"data row3 col0\" >45</td>\n",
       "                        <td id=\"T_cc6b1f12_5672_11ea_92c4_49ab58a05249row3_col1\" class=\"data row3 col1\" >17</td>\n",
       "                        <td id=\"T_cc6b1f12_5672_11ea_92c4_49ab58a05249row3_col2\" class=\"data row3 col2\" >47</td>\n",
       "                        <td id=\"T_cc6b1f12_5672_11ea_92c4_49ab58a05249row3_col3\" class=\"data row3 col3\" >109</td>\n",
       "            </tr>\n",
       "            <tr>\n",
       "                        <th id=\"T_cc6b1f12_5672_11ea_92c4_49ab58a05249level0_row4\" class=\"row_heading level0 row4\" >All</th>\n",
       "                        <th id=\"T_cc6b1f12_5672_11ea_92c4_49ab58a05249level1_row4\" class=\"row_heading level1 row4\" ></th>\n",
       "                        <td id=\"T_cc6b1f12_5672_11ea_92c4_49ab58a05249row4_col0\" class=\"data row4 col0\" >216</td>\n",
       "                        <td id=\"T_cc6b1f12_5672_11ea_92c4_49ab58a05249row4_col1\" class=\"data row4 col1\" >184</td>\n",
       "                        <td id=\"T_cc6b1f12_5672_11ea_92c4_49ab58a05249row4_col2\" class=\"data row4 col2\" >491</td>\n",
       "                        <td id=\"T_cc6b1f12_5672_11ea_92c4_49ab58a05249row4_col3\" class=\"data row4 col3\" >891</td>\n",
       "            </tr>\n",
       "    </tbody></table>"
      ],
      "text/plain": [
       "<pandas.io.formats.style.Styler at 0x7fe158375210>"
      ]
     },
     "execution_count": 17,
     "metadata": {},
     "output_type": "execute_result"
    }
   ],
   "source": [
    "pd.crosstab([df_train.Sex,df_train.Survived],df_train.Pclass,margins=True).style.background_gradient(cmap='summer_r')"
   ]
  },
  {
   "cell_type": "code",
   "execution_count": 18,
   "metadata": {},
   "outputs": [
    {
     "name": "stderr",
     "output_type": "stream",
     "text": [
      "/home/huydao/anaconda3/envs/learn/lib/python3.7/site-packages/seaborn/categorical.py:3669: UserWarning: The `factorplot` function has been renamed to `catplot`. The original name will be removed in a future release. Please update your code. Note that the default `kind` in `factorplot` (`'point'`) has changed `'strip'` in `catplot`.\n",
      "  warnings.warn(msg)\n"
     ]
    },
    {
     "data": {
      "text/plain": [
       "<seaborn.axisgrid.FacetGrid at 0x7fe157bdbad0>"
      ]
     },
     "execution_count": 18,
     "metadata": {},
     "output_type": "execute_result"
    },
    {
     "data": {
      "image/png": "[encoded data removed]",
      "text/plain": [
       "<Figure size 430.5x360 with 1 Axes>"
      ]
     },
     "metadata": {
      "needs_background": "light"
     },
     "output_type": "display_data"
    }
   ],
   "source": [
    "sns.factorplot(x='Pclass',y='Survived',hue='Sex',data=df_train)"
   ]
  },
  {
   "cell_type": "markdown",
   "metadata": {},
   "source": [
    "## Age"
   ]
  },
  {
   "cell_type": "code",
   "execution_count": 19,
   "metadata": {},
   "outputs": [
    {
     "name": "stdout",
     "output_type": "stream",
     "text": [
      "Ordest people in titannic: 80.0\n",
      "Youngest people in titannic: 0.42\n",
      "Mean age of people in titannic: 29.69911764705882\n"
     ]
    }
   ],
   "source": [
    "print('Ordest people in titannic:',df_train['Age'].max())\n",
    "print('Youngest people in titannic:',df_train['Age'].min())\n",
    "print('Mean age of people in titannic:',df_train['Age'].mean())"
   ]
  },
  {
   "cell_type": "code",
   "execution_count": 20,
   "metadata": {},
   "outputs": [
    {
     "data": {
      "text/plain": [
       "<matplotlib.axes._subplots.AxesSubplot at 0x7fe18cb71090>"
      ]
     },
     "execution_count": 20,
     "metadata": {},
     "output_type": "execute_result"
    },
    {
     "data": {
      "image/png": "[encoded data removed]",
      "text/plain": [
       "<Figure size 1296x576 with 2 Axes>"
      ]
     },
     "metadata": {
      "needs_background": "light"
     },
     "output_type": "display_data"
    }
   ],
   "source": [
    "fig,ax = plt.subplots(1,2,figsize=(18,8))\n",
    "sns.violinplot(x='Pclass',y='Age',hue='Survived',data=df_train,ax=ax[0],split=True)\n",
    "\n",
    "sns.violinplot(x='Sex',y='Age',hue='Survived',data=df_train,ax=ax[1],split=True)"
   ]
  },
  {
   "cell_type": "code",
   "execution_count": 21,
   "metadata": {},
   "outputs": [
    {
     "data": {
      "text/plain": [
       "Text(0.5, 1.0, 'Distrinution of Age')"
      ]
     },
     "execution_count": 21,
     "metadata": {},
     "output_type": "execute_result"
    },
    {
     "data": {
      "image/png": "[encoded data removed]",
      "text/plain": [
       "<Figure size 1152x576 with 2 Axes>"
      ]
     },
     "metadata": {
      "needs_background": "light"
     },
     "output_type": "display_data"
    }
   ],
   "source": [
    "fig,ax = plt.subplots(1,2,figsize=(16,8))\n",
    "sns.boxplot('Age',data=df_train,ax=ax[0])\n",
    "ax[0].set_title('Box plot of Age')\n",
    "sns.distplot(df_train['Age'],ax=ax[1],bins=20)\n",
    "ax[1].set_title('Distrinution of Age')"
   ]
  },
  {
   "cell_type": "code",
   "execution_count": 23,
   "metadata": {},
   "outputs": [],
   "source": [
    "df = pd.concat([df_train,df_test],axis=0)"
   ]
  },
  {
   "cell_type": "markdown",
   "metadata": {},
   "source": [
    "### Name"
   ]
  },
  {
   "cell_type": "code",
   "execution_count": 22,
   "metadata": {},
   "outputs": [
    {
     "data": {
      "text/html": [
       "<div>\n",
       "<style scoped>\n",
       "    .dataframe tbody tr th:only-of-type {\n",
       "        vertical-align: middle;\n",
       "    }\n",
       "\n",
       "    .dataframe tbody tr th {\n",
       "        vertical-align: top;\n",
       "    }\n",
       "\n",
       "    .dataframe thead th {\n",
       "        text-align: right;\n",
       "    }\n",
       "</style>\n",
       "<table border=\"1\" class=\"dataframe\">\n",
       "  <thead>\n",
       "    <tr style=\"text-align: right;\">\n",
       "      <th></th>\n",
       "      <th>PassengerId</th>\n",
       "      <th>Survived</th>\n",
       "      <th>Pclass</th>\n",
       "      <th>Name</th>\n",
       "      <th>Sex</th>\n",
       "      <th>Age</th>\n",
       "      <th>SibSp</th>\n",
       "      <th>Parch</th>\n",
       "      <th>Ticket</th>\n",
       "      <th>Fare</th>\n",
       "      <th>Cabin</th>\n",
       "      <th>Embarked</th>\n",
       "    </tr>\n",
       "  </thead>\n",
       "  <tbody>\n",
       "    <tr>\n",
       "      <th>0</th>\n",
       "      <td>1</td>\n",
       "      <td>0</td>\n",
       "      <td>3</td>\n",
       "      <td>Braund, Mr. Owen Harris</td>\n",
       "      <td>male</td>\n",
       "      <td>22.0</td>\n",
       "      <td>1</td>\n",
       "      <td>0</td>\n",
       "      <td>A/5 21171</td>\n",
       "      <td>7.2500</td>\n",
       "      <td>NaN</td>\n",
       "      <td>S</td>\n",
       "    </tr>\n",
       "    <tr>\n",
       "      <th>1</th>\n",
       "      <td>2</td>\n",
       "      <td>1</td>\n",
       "      <td>1</td>\n",
       "      <td>Cumings, Mrs. John Bradley (Florence Briggs Th...</td>\n",
       "      <td>female</td>\n",
       "      <td>38.0</td>\n",
       "      <td>1</td>\n",
       "      <td>0</td>\n",
       "      <td>PC 17599</td>\n",
       "      <td>71.2833</td>\n",
       "      <td>C85</td>\n",
       "      <td>C</td>\n",
       "    </tr>\n",
       "    <tr>\n",
       "      <th>2</th>\n",
       "      <td>3</td>\n",
       "      <td>1</td>\n",
       "      <td>3</td>\n",
       "      <td>Heikkinen, Miss. Laina</td>\n",
       "      <td>female</td>\n",
       "      <td>26.0</td>\n",
       "      <td>0</td>\n",
       "      <td>0</td>\n",
       "      <td>STON/O2. 3101282</td>\n",
       "      <td>7.9250</td>\n",
       "      <td>NaN</td>\n",
       "      <td>S</td>\n",
       "    </tr>\n",
       "    <tr>\n",
       "      <th>3</th>\n",
       "      <td>4</td>\n",
       "      <td>1</td>\n",
       "      <td>1</td>\n",
       "      <td>Futrelle, Mrs. Jacques Heath (Lily May Peel)</td>\n",
       "      <td>female</td>\n",
       "      <td>35.0</td>\n",
       "      <td>1</td>\n",
       "      <td>0</td>\n",
       "      <td>113803</td>\n",
       "      <td>53.1000</td>\n",
       "      <td>C123</td>\n",
       "      <td>S</td>\n",
       "    </tr>\n",
       "    <tr>\n",
       "      <th>4</th>\n",
       "      <td>5</td>\n",
       "      <td>0</td>\n",
       "      <td>3</td>\n",
       "      <td>Allen, Mr. William Henry</td>\n",
       "      <td>male</td>\n",
       "      <td>35.0</td>\n",
       "      <td>0</td>\n",
       "      <td>0</td>\n",
       "      <td>373450</td>\n",
       "      <td>8.0500</td>\n",
       "      <td>NaN</td>\n",
       "      <td>S</td>\n",
       "    </tr>\n",
       "  </tbody>\n",
       "</table>\n",
       "</div>"
      ],
      "text/plain": [
       "   PassengerId  Survived  Pclass  \\\n",
       "0            1         0       3   \n",
       "1            2         1       1   \n",
       "2            3         1       3   \n",
       "3            4         1       1   \n",
       "4            5         0       3   \n",
       "\n",
       "                                                Name     Sex   Age  SibSp  \\\n",
       "0                            Braund, Mr. Owen Harris    male  22.0      1   \n",
       "1  Cumings, Mrs. John Bradley (Florence Briggs Th...  female  38.0      1   \n",
       "2                             Heikkinen, Miss. Laina  female  26.0      0   \n",
       "3       Futrelle, Mrs. Jacques Heath (Lily May Peel)  female  35.0      1   \n",
       "4                           Allen, Mr. William Henry    male  35.0      0   \n",
       "\n",
       "   Parch            Ticket     Fare Cabin Embarked  \n",
       "0      0         A/5 21171   7.2500   NaN        S  \n",
       "1      0          PC 17599  71.2833   C85        C  \n",
       "2      0  STON/O2. 3101282   7.9250   NaN        S  \n",
       "3      0            113803  53.1000  C123        S  \n",
       "4      0            373450   8.0500   NaN        S  "
      ]
     },
     "execution_count": 22,
     "metadata": {},
     "output_type": "execute_result"
    }
   ],
   "source": [
    "df_train.head()"
   ]
  },
  {
   "cell_type": "code",
   "execution_count": 24,
   "metadata": {},
   "outputs": [],
   "source": [
    "df_train['Initial'] = 0\n",
    "for i in df_train:\n",
    "    df_train['Initial'] = df_train['Name'].str.extract('([A-Za-z]+)\\.')"
   ]
  },
  {
   "cell_type": "code",
   "execution_count": 25,
   "metadata": {},
   "outputs": [
    {
     "data": {
      "text/html": [
       "<div>\n",
       "<style scoped>\n",
       "    .dataframe tbody tr th:only-of-type {\n",
       "        vertical-align: middle;\n",
       "    }\n",
       "\n",
       "    .dataframe tbody tr th {\n",
       "        vertical-align: top;\n",
       "    }\n",
       "\n",
       "    .dataframe thead th {\n",
       "        text-align: right;\n",
       "    }\n",
       "</style>\n",
       "<table border=\"1\" class=\"dataframe\">\n",
       "  <thead>\n",
       "    <tr style=\"text-align: right;\">\n",
       "      <th></th>\n",
       "      <th>PassengerId</th>\n",
       "      <th>Survived</th>\n",
       "      <th>Pclass</th>\n",
       "      <th>Name</th>\n",
       "      <th>Sex</th>\n",
       "      <th>Age</th>\n",
       "      <th>SibSp</th>\n",
       "      <th>Parch</th>\n",
       "      <th>Ticket</th>\n",
       "      <th>Fare</th>\n",
       "      <th>Cabin</th>\n",
       "      <th>Embarked</th>\n",
       "      <th>Initial</th>\n",
       "    </tr>\n",
       "  </thead>\n",
       "  <tbody>\n",
       "    <tr>\n",
       "      <th>0</th>\n",
       "      <td>1</td>\n",
       "      <td>0</td>\n",
       "      <td>3</td>\n",
       "      <td>Braund, Mr. Owen Harris</td>\n",
       "      <td>male</td>\n",
       "      <td>22.0</td>\n",
       "      <td>1</td>\n",
       "      <td>0</td>\n",
       "      <td>A/5 21171</td>\n",
       "      <td>7.2500</td>\n",
       "      <td>NaN</td>\n",
       "      <td>S</td>\n",
       "      <td>Mr</td>\n",
       "    </tr>\n",
       "    <tr>\n",
       "      <th>1</th>\n",
       "      <td>2</td>\n",
       "      <td>1</td>\n",
       "      <td>1</td>\n",
       "      <td>Cumings, Mrs. John Bradley (Florence Briggs Th...</td>\n",
       "      <td>female</td>\n",
       "      <td>38.0</td>\n",
       "      <td>1</td>\n",
       "      <td>0</td>\n",
       "      <td>PC 17599</td>\n",
       "      <td>71.2833</td>\n",
       "      <td>C85</td>\n",
       "      <td>C</td>\n",
       "      <td>Mrs</td>\n",
       "    </tr>\n",
       "    <tr>\n",
       "      <th>2</th>\n",
       "      <td>3</td>\n",
       "      <td>1</td>\n",
       "      <td>3</td>\n",
       "      <td>Heikkinen, Miss. Laina</td>\n",
       "      <td>female</td>\n",
       "      <td>26.0</td>\n",
       "      <td>0</td>\n",
       "      <td>0</td>\n",
       "      <td>STON/O2. 3101282</td>\n",
       "      <td>7.9250</td>\n",
       "      <td>NaN</td>\n",
       "      <td>S</td>\n",
       "      <td>Miss</td>\n",
       "    </tr>\n",
       "    <tr>\n",
       "      <th>3</th>\n",
       "      <td>4</td>\n",
       "      <td>1</td>\n",
       "      <td>1</td>\n",
       "      <td>Futrelle, Mrs. Jacques Heath (Lily May Peel)</td>\n",
       "      <td>female</td>\n",
       "      <td>35.0</td>\n",
       "      <td>1</td>\n",
       "      <td>0</td>\n",
       "      <td>113803</td>\n",
       "      <td>53.1000</td>\n",
       "      <td>C123</td>\n",
       "      <td>S</td>\n",
       "      <td>Mrs</td>\n",
       "    </tr>\n",
       "    <tr>\n",
       "      <th>4</th>\n",
       "      <td>5</td>\n",
       "      <td>0</td>\n",
       "      <td>3</td>\n",
       "      <td>Allen, Mr. William Henry</td>\n",
       "      <td>male</td>\n",
       "      <td>35.0</td>\n",
       "      <td>0</td>\n",
       "      <td>0</td>\n",
       "      <td>373450</td>\n",
       "      <td>8.0500</td>\n",
       "      <td>NaN</td>\n",
       "      <td>S</td>\n",
       "      <td>Mr</td>\n",
       "    </tr>\n",
       "  </tbody>\n",
       "</table>\n",
       "</div>"
      ],
      "text/plain": [
       "   PassengerId  Survived  Pclass  \\\n",
       "0            1         0       3   \n",
       "1            2         1       1   \n",
       "2            3         1       3   \n",
       "3            4         1       1   \n",
       "4            5         0       3   \n",
       "\n",
       "                                                Name     Sex   Age  SibSp  \\\n",
       "0                            Braund, Mr. Owen Harris    male  22.0      1   \n",
       "1  Cumings, Mrs. John Bradley (Florence Briggs Th...  female  38.0      1   \n",
       "2                             Heikkinen, Miss. Laina  female  26.0      0   \n",
       "3       Futrelle, Mrs. Jacques Heath (Lily May Peel)  female  35.0      1   \n",
       "4                           Allen, Mr. William Henry    male  35.0      0   \n",
       "\n",
       "   Parch            Ticket     Fare Cabin Embarked Initial  \n",
       "0      0         A/5 21171   7.2500   NaN        S      Mr  \n",
       "1      0          PC 17599  71.2833   C85        C     Mrs  \n",
       "2      0  STON/O2. 3101282   7.9250   NaN        S    Miss  \n",
       "3      0            113803  53.1000  C123        S     Mrs  \n",
       "4      0            373450   8.0500   NaN        S      Mr  "
      ]
     },
     "execution_count": 25,
     "metadata": {},
     "output_type": "execute_result"
    }
   ],
   "source": [
    "df['Initial'] = 0\n",
    "for i in df:\n",
    "    df['Initial'] = df['Name'].str.extract('([A-Za-z])+\\.')"
   ]
  },
  {
   "cell_type": "code",
   "execution_count": null,
   "metadata": {},
   "outputs": [],
   "source": []
  }
 ],
 "metadata": {
  "kernelspec": {
   "display_name": "Python 3",
   "language": "python",
   "name": "python3"
  },
  "language_info": {
   "codemirror_mode": {
    "name": "ipython",
    "version": 3
   },
   "file_extension": ".py",
   "mimetype": "text/x-python",
   "name": "python",
   "nbconvert_exporter": "python",
   "pygments_lexer": "ipython3",
   "version": "3.7.6"
  }
 },
 "nbformat": 4,
 "nbformat_minor": 4
}
